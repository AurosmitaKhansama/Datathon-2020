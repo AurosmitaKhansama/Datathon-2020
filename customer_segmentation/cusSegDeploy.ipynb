{
 "cells": [
  {
   "cell_type": "code",
   "execution_count": 1,
   "metadata": {},
   "outputs": [],
   "source": [
    "import numpy as np\n",
    "import pandas as pd \n",
    "from sklearn.preprocessing import StandardScaler\n",
    "from sklearn.cluster import KMeans\n",
    "from sklearn.decomposition import PCA\n",
    "from sklearn.metrics.pairwise import cosine_similarity\n",
    "import os\n",
    "import sys\n",
    "import ipywidgets as widgets\n",
    "from IPython.display import clear_output\n",
    "import pickle as pk\n",
    "from IPython.display import HTML\n",
    "import warnings\n",
    "warnings.filterwarnings(action=\"ignore\")"
   ]
  },
  {
   "cell_type": "code",
   "execution_count": 2,
   "metadata": {},
   "outputs": [],
   "source": [
    "# LOAD DATA\n",
    "with open('cusSegData.pk','rb') as f:\n",
    "    kmean,scale = pk.load(f)\n",
    "f.close()"
   ]
  },
  {
   "cell_type": "code",
   "execution_count": 3,
   "metadata": {},
   "outputs": [],
   "source": [
    "def run(inp,kmean,scale):\n",
    "\n",
    "    cols = ['CUST_ID',\n",
    "    'BALANCE',\n",
    "    'BALANCE_FREQUENCY',\n",
    "    'PURCHASES',\n",
    "    'ONEOFF_PURCHASES',\n",
    "    'INSTALLMENTS_PURCHASES',\n",
    "    'CASH_ADVANCE',\n",
    "    'PURCHASES_FREQUENCY',\n",
    "    'ONEOFF_PURCHASES_FREQUENCY',\n",
    "    'PURCHASES_INSTALLMENTS_FREQUENCY',\n",
    "    'CASH_ADVANCE_FREQUENCY',\n",
    "    'CASH_ADVANCE_TRX',\n",
    "    'PURCHASES_TRX',\n",
    "    'CREDIT_LIMIT',\n",
    "    'PAYMENTS',\n",
    "    'MINIMUM_PAYMENTS',\n",
    "    'PRC_FULL_PAYMENT',\n",
    "    'TENURE']\n",
    "    data = pd.DataFrame(inp.reshape(1,-1),columns=cols,dtype='float')\n",
    "    x = rangeConv(data)\n",
    "    x= scale.transform(x)\n",
    "    pred = kmean.predict(x)\n",
    "\n",
    "    print(\"Customer belongs to Cluster: \", pred.item())"
   ]
  },
  {
   "cell_type": "code",
   "execution_count": 4,
   "metadata": {},
   "outputs": [],
   "source": [
    "def rangeConv(data):\n",
    "\n",
    "    columns=['BALANCE', 'PURCHASES', 'ONEOFF_PURCHASES', 'INSTALLMENTS_PURCHASES', 'CASH_ADVANCE', 'CREDIT_LIMIT',\n",
    "        'PAYMENTS', 'MINIMUM_PAYMENTS']\n",
    "\n",
    "    for c in columns:\n",
    "        \n",
    "        Range=c+'_RANGE'\n",
    "        data[Range]=0        \n",
    "        data.loc[((data[c]>0)&(data[c]<=500)),Range]=1\n",
    "        data.loc[((data[c]>500)&(data[c]<=1000)),Range]=2\n",
    "        data.loc[((data[c]>1000)&(data[c]<=3000)),Range]=3\n",
    "        data.loc[((data[c]>3000)&(data[c]<=5000)),Range]=4\n",
    "        data.loc[((data[c]>5000)&(data[c]<=10000)),Range]=5\n",
    "        data.loc[((data[c]>10000)),Range]=6\n",
    "\n",
    "    columns=['BALANCE_FREQUENCY', 'PURCHASES_FREQUENCY', 'ONEOFF_PURCHASES_FREQUENCY', 'PURCHASES_INSTALLMENTS_FREQUENCY', \n",
    "            'CASH_ADVANCE_FREQUENCY', 'PRC_FULL_PAYMENT']\n",
    "\n",
    "    for c in columns:\n",
    "        \n",
    "        Range=c+'_RANGE'\n",
    "        data[Range]=0\n",
    "        data.loc[((data[c]>0)&(data[c]<=0.1)),Range]=1\n",
    "        data.loc[((data[c]>0.1)&(data[c]<=0.2)),Range]=2\n",
    "        data.loc[((data[c]>0.2)&(data[c]<=0.3)),Range]=3\n",
    "        data.loc[((data[c]>0.3)&(data[c]<=0.4)),Range]=4\n",
    "        data.loc[((data[c]>0.4)&(data[c]<=0.5)),Range]=5\n",
    "        data.loc[((data[c]>0.5)&(data[c]<=0.6)),Range]=6\n",
    "        data.loc[((data[c]>0.6)&(data[c]<=0.7)),Range]=7\n",
    "        data.loc[((data[c]>0.7)&(data[c]<=0.8)),Range]=8\n",
    "        data.loc[((data[c]>0.8)&(data[c]<=0.9)),Range]=9\n",
    "        data.loc[((data[c]>0.9)&(data[c]<=1.0)),Range]=10\n",
    "\n",
    "    columns=['PURCHASES_TRX', 'CASH_ADVANCE_TRX']  \n",
    "\n",
    "    for c in columns:\n",
    "        \n",
    "        Range=c+'_RANGE'\n",
    "        data[Range]=0\n",
    "        data.loc[((data[c]>0)&(data[c]<=5)),Range]=1\n",
    "        data.loc[((data[c]>5)&(data[c]<=10)),Range]=2\n",
    "        data.loc[((data[c]>10)&(data[c]<=15)),Range]=3\n",
    "        data.loc[((data[c]>15)&(data[c]<=20)),Range]=4\n",
    "        data.loc[((data[c]>20)&(data[c]<=30)),Range]=5\n",
    "        data.loc[((data[c]>30)&(data[c]<=50)),Range]=6\n",
    "        data.loc[((data[c]>50)&(data[c]<=100)),Range]=7\n",
    "        data.loc[((data[c]>100)),Range]=8\n",
    "\n",
    "    data.drop(['CUST_ID', 'BALANCE', 'BALANCE_FREQUENCY', 'PURCHASES',\n",
    "        'ONEOFF_PURCHASES', 'INSTALLMENTS_PURCHASES', 'CASH_ADVANCE',\n",
    "        'PURCHASES_FREQUENCY',  'ONEOFF_PURCHASES_FREQUENCY',\n",
    "        'PURCHASES_INSTALLMENTS_FREQUENCY', 'CASH_ADVANCE_FREQUENCY',\n",
    "        'CASH_ADVANCE_TRX', 'PURCHASES_TRX', 'CREDIT_LIMIT', 'PAYMENTS',\n",
    "        'MINIMUM_PAYMENTS', 'PRC_FULL_PAYMENT' ], axis=1, inplace=True)\n",
    "\n",
    "    X= np.asarray(data)\n",
    "\n",
    "    return X"
   ]
  },
  {
   "cell_type": "markdown",
   "metadata": {},
   "source": [
    "<h2 align=\"middle\"><b><font size=\"10\">CUSTOMER SEGMENTATION USING CREDIT CARD BEHAVIOUR</b></h2>"
   ]
  },
  {
   "cell_type": "code",
   "execution_count": 32,
   "metadata": {},
   "outputs": [
    {
     "data": {
      "application/vnd.jupyter.widget-view+json": {
       "model_id": "63d89ecd3159464eb980fd485cfced81",
       "version_major": 2,
       "version_minor": 0
      },
      "text/plain": [
       "HTML(value=\"<font size='3'> This is a customer segmentation tool to cluster customers based on their credit ca…"
      ]
     },
     "metadata": {},
     "output_type": "display_data"
    }
   ],
   "source": [
    "label = widgets.HTML(\n",
    "    value=\"<font size='3'> This is a customer segmentation tool to cluster customers based on their credit card behaviour. This tool is based on a financial dataset and provides marketing strategies to banks to cater to the needs of their customer. Unsupervised K-means algorithm is used to segment about 9000 customers into 4 clusters based on their credit card data. Using these clusters, banks can create different programs catering to a specific customer group. As shown in the below figure we can see clear clusters forming, suggesting different credit card behaviours.\",\n",
    "    align= 'center',\n",
    "    positioning = 'top',\n",
    "    placeholder='',\n",
    "    description='',\n",
    ")\n",
    "\n",
    "display(label)"
   ]
  },
  {
   "cell_type": "code",
   "execution_count": 13,
   "metadata": {},
   "outputs": [
    {
     "data": {
      "text/html": [
       "<img src=\"cusSegGraph.jpg\" width=\"900\" height=\"900\" align=\"middle\"/>"
      ],
      "text/plain": [
       "<IPython.core.display.HTML object>"
      ]
     },
     "execution_count": 13,
     "metadata": {},
     "output_type": "execute_result"
    }
   ],
   "source": [
    "html1 = '<img src=\"cusSegGraph.jpg\" width=\"900\" height=\"900\" align=\"middle\"/>'\n",
    "HTML(html1)"
   ]
  },
  {
   "cell_type": "code",
   "execution_count": 33,
   "metadata": {},
   "outputs": [
    {
     "data": {
      "application/vnd.jupyter.widget-view+json": {
       "model_id": "0a2d617e47b945ff8ccfe91ba2b2b81a",
       "version_major": 2,
       "version_minor": 0
      },
      "text/plain": [
       "HTML(value=\"<font size='3'> Based on a new input, a prediction for the cluster can be made using the deployed …"
      ]
     },
     "metadata": {},
     "output_type": "display_data"
    }
   ],
   "source": [
    "label = widgets.HTML(\n",
    "    value=\"<font size='3'> Based on a new input, a prediction for the cluster can be made using the deployed clustering model. Enter the feature values of the customer and hit predict to get the group allocated to the customer.\",\n",
    "    align= 'center',\n",
    "    positioning = 'top',\n",
    "    placeholder='',\n",
    "    description='',\n",
    ")\n",
    "\n",
    "display(label)"
   ]
  },
  {
   "cell_type": "code",
   "execution_count": 34,
   "metadata": {},
   "outputs": [],
   "source": [
    "cols=['BALANCE', 'BALANCE_FREQUENCY', 'PURCHASES',\n",
    "       'ONEOFF_PURCHASES', 'INSTALLMENTS_PURCHASES', 'CASH_ADVANCE',\n",
    "       'PURCHASES_FREQUENCY', 'ONEOFF_PURCHASES_FREQUENCY',\n",
    "       'PURCHASES_INSTALLMENTS_FREQUENCY', 'CASH_ADVANCE_FREQUENCY',\n",
    "       'CASH_ADVANCE_TRX', 'PURCHASES_TRX', 'CREDIT_LIMIT', 'PAYMENTS',\n",
    "       'MINIMUM_PAYMENTS', 'PRC_FULL_PAYMENT', 'TENURE']\n",
    "dictInps = {k:None for k in cols}\n",
    "maxinps = [19043.13856,\n",
    " 1.0,\n",
    " 49039.57,\n",
    " 40761.25,\n",
    " 22500.0,\n",
    " 47137.211760000006,\n",
    " 1.0,\n",
    " 1.0,\n",
    " 1.0,\n",
    " 1.5,\n",
    " 123,\n",
    " 358,\n",
    " 30000.0,\n",
    " 50721.483360000006,\n",
    " 76406.20752000001,\n",
    " 1.0,\n",
    " 12]\n",
    "mininps=[0.0,\n",
    " 0.0,\n",
    " 0.0,\n",
    " 0.0,\n",
    " 0.0,\n",
    " 0.0,\n",
    " 0.0,\n",
    " 0.0,\n",
    " 0.0,\n",
    " 0.0,\n",
    " 0,\n",
    " 0,\n",
    " 50.0,\n",
    " 0.0,\n",
    " 0.019163,\n",
    " 0.0,\n",
    " 6]"
   ]
  },
  {
   "cell_type": "code",
   "execution_count": 7,
   "metadata": {},
   "outputs": [],
   "source": [
    "for c in cols:\n",
    "    dictInps[c] =widgets.FloatSlider(\n",
    "        value=0.1,\n",
    "        min=mininps[cols.index(c)],\n",
    "        max=maxinps[cols.index(c)],\n",
    "        step=0.02,\n",
    "        description=c+\":\",\n",
    "        disabled=False,\n",
    "        continuous_update=False,\n",
    "        orientation='horizontal',\n",
    "        readout=True,\n",
    "        readout_format='.2f',\n",
    "    )"
   ]
  },
  {
   "cell_type": "code",
   "execution_count": 31,
   "metadata": {},
   "outputs": [
    {
     "data": {
      "application/vnd.jupyter.widget-view+json": {
       "model_id": "321bfa2b0e0c40af8cfdfe35c9a64a03",
       "version_major": 2,
       "version_minor": 0
      },
      "text/plain": [
       "HTML(value=\"<font size='3'> The following input parameters can be customised to predict cluster:<ul>     <li> …"
      ]
     },
     "metadata": {},
     "output_type": "display_data"
    }
   ],
   "source": [
    "label = widgets.HTML(\n",
    "    value=\"<font size='3'> The following input parameters can be customised to predict cluster:<ul> \\\n",
    "    <li> BALANCE : Balance amount left in their account to make purchases </li> \\\n",
    "    <li> BALANCEFREQUENCY : How frequently the Balance is updated, score between 0 and 1 (1 = frequently updated, 0 = not frequently updated) </li> \\\n",
    "    <li> PURCHASES : Amount of purchases made from account </li>\\\n",
    "    <li> ONEOFFPURCHASES : Maximum purchase amount done in one-go </li> \\\n",
    "    <li> INSTALLMENTSPURCHASES : Amount of purchase done in installment   </li> \\\n",
    "    <li> CASHADVANCE : Cash in advance given by the user  </li> \\\n",
    "    <li> PURCHASESFREQUENCY : How frequently the Purchases are being made, score between 0 and 1 (1 = frequently purchased, 0 = not frequently purchased) </li> \\\n",
    "    <li> ONEOFFPURCHASESFREQUENCY : How frequently Purchases are happening in one-go (1 = frequently purchased, 0 = not frequently purchased   </li> \\\n",
    "    <li> PURCHASESINSTALLMENTSFREQUENCY : How frequently purchases in installments are being done (1 = frequently done, 0 = not frequently done)   </li> \\\n",
    "    <li> CASHADVANCEFREQUENCY : How frequently the cash in advance being paid   </li> \\\n",
    "    <li> CASHADVANCETRX : Number of Transactions made with 'Cash in Advanced'  </li> \\\n",
    "    <li> PURCHASESTRX : Numbe of purchase transactions made   </li> \\\n",
    "    <li> CREDITLIMIT : Limit of Credit Card for user   </li> \\\n",
    "    <li> PAYMENTS : Amount of Payment done by user  </li> \\\n",
    "    <li> MINIMUM_PAYMENTS : Minimum amount of payments made by user   </li> \\\n",
    "    <li> PRCFULLPAYMENT : Percent of full payment paid by user   </li> \\\n",
    "    <li> TENURE : Tenure of credit card service for user   </li> </ul>\",\n",
    "    align= 'center',\n",
    "    positioning = 'top',\n",
    "    placeholder='',\n",
    "    description='',\n",
    ")\n",
    "\n",
    "display(label)"
   ]
  },
  {
   "cell_type": "markdown",
   "metadata": {},
   "source": [
    "<h2><b><font size=\"4\">Change the following parameters to predict customer group:</b></h2>"
   ]
  },
  {
   "cell_type": "code",
   "execution_count": 8,
   "metadata": {},
   "outputs": [
    {
     "data": {
      "application/vnd.jupyter.widget-view+json": {
       "model_id": "04749bf365e54806861a4cdd55d8b873",
       "version_major": 2,
       "version_minor": 0
      },
      "text/plain": [
       "FloatSlider(value=0.1, continuous_update=False, description='BALANCE:', max=19043.13856, step=0.02)"
      ]
     },
     "metadata": {},
     "output_type": "display_data"
    },
    {
     "data": {
      "application/vnd.jupyter.widget-view+json": {
       "model_id": "f47fb699141c47ea8e447aa952e6a0cf",
       "version_major": 2,
       "version_minor": 0
      },
      "text/plain": [
       "FloatSlider(value=0.1, continuous_update=False, description='BALANCE_FREQUENCY:', max=1.0, step=0.02)"
      ]
     },
     "metadata": {},
     "output_type": "display_data"
    },
    {
     "data": {
      "application/vnd.jupyter.widget-view+json": {
       "model_id": "1ded2fc0bb754068bd3f73046e0e653e",
       "version_major": 2,
       "version_minor": 0
      },
      "text/plain": [
       "FloatSlider(value=0.1, continuous_update=False, description='PURCHASES:', max=49039.57, step=0.02)"
      ]
     },
     "metadata": {},
     "output_type": "display_data"
    },
    {
     "data": {
      "application/vnd.jupyter.widget-view+json": {
       "model_id": "44fe642b2fa7401e9b757f11d9416259",
       "version_major": 2,
       "version_minor": 0
      },
      "text/plain": [
       "FloatSlider(value=0.1, continuous_update=False, description='ONEOFF_PURCHASES:', max=40761.25, step=0.02)"
      ]
     },
     "metadata": {},
     "output_type": "display_data"
    },
    {
     "data": {
      "application/vnd.jupyter.widget-view+json": {
       "model_id": "937bad5924864c4a87457268e7c4186d",
       "version_major": 2,
       "version_minor": 0
      },
      "text/plain": [
       "FloatSlider(value=0.1, continuous_update=False, description='INSTALLMENTS_PURCHASES:', max=22500.0, step=0.02)"
      ]
     },
     "metadata": {},
     "output_type": "display_data"
    },
    {
     "data": {
      "application/vnd.jupyter.widget-view+json": {
       "model_id": "3f4ac6d7af3c4603844181d8166c43b1",
       "version_major": 2,
       "version_minor": 0
      },
      "text/plain": [
       "FloatSlider(value=0.1, continuous_update=False, description='CASH_ADVANCE:', max=47137.211760000006, step=0.02…"
      ]
     },
     "metadata": {},
     "output_type": "display_data"
    },
    {
     "data": {
      "application/vnd.jupyter.widget-view+json": {
       "model_id": "71fe4f3dfce94963b75515cd2e147e37",
       "version_major": 2,
       "version_minor": 0
      },
      "text/plain": [
       "FloatSlider(value=0.1, continuous_update=False, description='PURCHASES_FREQUENCY:', max=1.0, step=0.02)"
      ]
     },
     "metadata": {},
     "output_type": "display_data"
    },
    {
     "data": {
      "application/vnd.jupyter.widget-view+json": {
       "model_id": "fae31605629d49f6aeff5c5ebf04f7f7",
       "version_major": 2,
       "version_minor": 0
      },
      "text/plain": [
       "FloatSlider(value=0.1, continuous_update=False, description='ONEOFF_PURCHASES_FREQUENCY:', max=1.0, step=0.02)"
      ]
     },
     "metadata": {},
     "output_type": "display_data"
    },
    {
     "data": {
      "application/vnd.jupyter.widget-view+json": {
       "model_id": "af6c963b7829430ebf9d98bfb26fdc12",
       "version_major": 2,
       "version_minor": 0
      },
      "text/plain": [
       "FloatSlider(value=0.1, continuous_update=False, description='PURCHASES_INSTALLMENTS_FREQUENCY:', max=1.0, step…"
      ]
     },
     "metadata": {},
     "output_type": "display_data"
    },
    {
     "data": {
      "application/vnd.jupyter.widget-view+json": {
       "model_id": "e2f46a04873f4e01af3b9557a2bf97e2",
       "version_major": 2,
       "version_minor": 0
      },
      "text/plain": [
       "FloatSlider(value=0.1, continuous_update=False, description='CASH_ADVANCE_FREQUENCY:', max=1.5, step=0.02)"
      ]
     },
     "metadata": {},
     "output_type": "display_data"
    },
    {
     "data": {
      "application/vnd.jupyter.widget-view+json": {
       "model_id": "d387e859eb4a4821a04ea7c91ea6da79",
       "version_major": 2,
       "version_minor": 0
      },
      "text/plain": [
       "FloatSlider(value=0.1, continuous_update=False, description='CASH_ADVANCE_TRX:', max=123.0, step=0.02)"
      ]
     },
     "metadata": {},
     "output_type": "display_data"
    },
    {
     "data": {
      "application/vnd.jupyter.widget-view+json": {
       "model_id": "d0e47f995afb480ba41234f722600449",
       "version_major": 2,
       "version_minor": 0
      },
      "text/plain": [
       "FloatSlider(value=0.1, continuous_update=False, description='PURCHASES_TRX:', max=358.0, step=0.02)"
      ]
     },
     "metadata": {},
     "output_type": "display_data"
    },
    {
     "data": {
      "application/vnd.jupyter.widget-view+json": {
       "model_id": "4d5a142347b649679fa5c599b9d0aa15",
       "version_major": 2,
       "version_minor": 0
      },
      "text/plain": [
       "FloatSlider(value=50.0, continuous_update=False, description='CREDIT_LIMIT:', max=30000.0, min=50.0, step=0.02…"
      ]
     },
     "metadata": {},
     "output_type": "display_data"
    },
    {
     "data": {
      "application/vnd.jupyter.widget-view+json": {
       "model_id": "99580e3fe6564a2c8fe84fb937b87053",
       "version_major": 2,
       "version_minor": 0
      },
      "text/plain": [
       "FloatSlider(value=0.1, continuous_update=False, description='PAYMENTS:', max=50721.483360000006, step=0.02)"
      ]
     },
     "metadata": {},
     "output_type": "display_data"
    },
    {
     "data": {
      "application/vnd.jupyter.widget-view+json": {
       "model_id": "89ec942095f84d01a3253769612ea675",
       "version_major": 2,
       "version_minor": 0
      },
      "text/plain": [
       "FloatSlider(value=0.1, continuous_update=False, description='MINIMUM_PAYMENTS:', max=76406.20752000001, min=0.…"
      ]
     },
     "metadata": {},
     "output_type": "display_data"
    },
    {
     "data": {
      "application/vnd.jupyter.widget-view+json": {
       "model_id": "98b6bb19762d483dbdf5543247814480",
       "version_major": 2,
       "version_minor": 0
      },
      "text/plain": [
       "FloatSlider(value=0.1, continuous_update=False, description='PRC_FULL_PAYMENT:', max=1.0, step=0.02)"
      ]
     },
     "metadata": {},
     "output_type": "display_data"
    },
    {
     "data": {
      "application/vnd.jupyter.widget-view+json": {
       "model_id": "ddf37feffd8c483d9dae77977ec38726",
       "version_major": 2,
       "version_minor": 0
      },
      "text/plain": [
       "FloatSlider(value=6.0, continuous_update=False, description='TENURE:', max=12.0, min=6.0, step=0.02)"
      ]
     },
     "metadata": {},
     "output_type": "display_data"
    }
   ],
   "source": [
    "for c in cols:\n",
    "    display(dictInps[c])"
   ]
  },
  {
   "cell_type": "code",
   "execution_count": 9,
   "metadata": {},
   "outputs": [],
   "source": [
    "def get_vals(dictInps,cols):\n",
    "    out = [1]\n",
    "    for c in cols:\n",
    "        out.append(dictInps[c].value)\n",
    "    return np.array(out)"
   ]
  },
  {
   "cell_type": "code",
   "execution_count": 10,
   "metadata": {},
   "outputs": [
    {
     "data": {
      "application/vnd.jupyter.widget-view+json": {
       "model_id": "efa92c3de44a43578a566fca1bf14292",
       "version_major": 2,
       "version_minor": 0
      },
      "text/plain": [
       "Button(button_style='success', description='PREDICT', style=ButtonStyle(), tooltip='Click to predict the custo…"
      ]
     },
     "metadata": {},
     "output_type": "display_data"
    },
    {
     "data": {
      "application/vnd.jupyter.widget-view+json": {
       "model_id": "85c992c5736b4e3e87a9afcd70107b10",
       "version_major": 2,
       "version_minor": 0
      },
      "text/plain": [
       "Output()"
      ]
     },
     "metadata": {},
     "output_type": "display_data"
    }
   ],
   "source": [
    "go_button =widgets.Button(\n",
    "    description='PREDICT',\n",
    "    disabled=False,\n",
    "    button_style='success', # 'success', 'info', 'warning', 'danger' or ''\n",
    "    tooltip='Click to predict the customer cluster',\n",
    "    icon=''\n",
    ")\n",
    "go_output = widgets.Output()\n",
    "\n",
    "def go_button_clicked(b):\n",
    "    with go_output:\n",
    "        clear_output()\n",
    "        inp = get_vals(dictInps,cols)\n",
    "        run(inp,kmean,scale)\n",
    "        \n",
    "go_button.on_click(go_button_clicked)\n",
    "\n",
    "display(go_button,go_output)"
   ]
  }
 ],
 "metadata": {
  "kernelspec": {
   "display_name": "Python 3",
   "language": "python",
   "name": "python3"
  },
  "language_info": {
   "codemirror_mode": {
    "name": "ipython",
    "version": 3
   },
   "file_extension": ".py",
   "mimetype": "text/x-python",
   "name": "python",
   "nbconvert_exporter": "python",
   "pygments_lexer": "ipython3",
   "version": "3.8.3"
  }
 },
 "nbformat": 4,
 "nbformat_minor": 2
}
